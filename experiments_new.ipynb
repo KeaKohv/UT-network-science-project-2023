{
 "cells": [
  {
   "attachments": {},
   "cell_type": "markdown",
   "metadata": {},
   "source": [
    "# Experiments\n",
    "\n",
    "**MovieLens 25M dataset subsamples**\n",
    "\n",
    "We have 6 subsamples (see subsample_creation.ipynb and Dataset chapter in the article). 2 are large, 2 are medium, 2 are small. Of each pair, one has higher level of data pruning, and the other has lower resulting in higher sparsity and lower sparsity.\n",
    "\n",
    "**Models**\n",
    "\n",
    "We compare the performance of these models for the top-N recommendation task:\n",
    "- LightGCN\n",
    "- model 2\n",
    "\n",
    "**Metrics**\n",
    "\n",
    "As performance metrics we use:\n",
    "- Recall@K\n",
    "- Precision@K\n",
    "- NDCG@K\n",
    "\n",
    "We use K = [10, 20, 50, 100] to see if different K-s influence the ranking"
   ]
  },
  {
   "attachments": {},
   "cell_type": "markdown",
   "metadata": {},
   "source": [
    "## Import libraries"
   ]
  },
  {
   "cell_type": "code",
   "execution_count": 31,
   "metadata": {},
   "outputs": [
    {
     "name": "stdout",
     "output_type": "stream",
     "text": [
      "2.0.1\n"
     ]
    }
   ],
   "source": [
    "# Import torch\n",
    "\n",
    "import torch\n",
    "from torch import Tensor\n",
    "print(torch.__version__)"
   ]
  },
  {
   "cell_type": "code",
   "execution_count": 32,
   "metadata": {},
   "outputs": [],
   "source": [
    "# Import libraries\n",
    "import os\n",
    "import timeit\n",
    "from tqdm import tqdm\n",
    "import pandas as pd\n",
    "import numpy as np\n",
    "import matplotlib.pyplot as plt\n",
    "from sklearn.model_selection import train_test_split\n",
    "\n",
    "from torch import nn, optim\n",
    "from torch_sparse import SparseTensor, matmul\n",
    "from torch_geometric.utils import structured_negative_sampling\n",
    "from torch_geometric.nn.conv.gcn_conv import gcn_norm\n",
    "from torch_geometric.nn.conv import MessagePassing\n",
    "from torch_geometric.typing import Adj\n",
    "\n",
    "from graph import *\n",
    "from lightgcn import *"
   ]
  },
  {
   "attachments": {},
   "cell_type": "markdown",
   "metadata": {},
   "source": [
    "## Load movie data"
   ]
  },
  {
   "cell_type": "code",
   "execution_count": 33,
   "metadata": {},
   "outputs": [],
   "source": [
    "# Read in the movies data\n",
    "movies_path = './data/movie_ml_imdb.csv'\n",
    "movies = pd.read_csv(movies_path, sep='\\t')\n",
    "\n",
    "# Keep only the columns of interest to us\n",
    "movies = movies[['movieId', 'title', 'genres_ml', 'year', 'actor', 'actress', 'director', 'producer', 'writer']]\n",
    "\n",
    "# Replace \\N\n",
    "movies = movies.replace(r'\\\\N',  'Unknown', regex=True)\n",
    "\n",
    "# Rename genres\n",
    "movies = movies.rename(columns={\"genres_ml\": \"genre\"})"
   ]
  },
  {
   "cell_type": "code",
   "execution_count": 34,
   "metadata": {},
   "outputs": [
    {
     "data": {
      "text/html": [
       "<div>\n",
       "<style scoped>\n",
       "    .dataframe tbody tr th:only-of-type {\n",
       "        vertical-align: middle;\n",
       "    }\n",
       "\n",
       "    .dataframe tbody tr th {\n",
       "        vertical-align: top;\n",
       "    }\n",
       "\n",
       "    .dataframe thead th {\n",
       "        text-align: right;\n",
       "    }\n",
       "</style>\n",
       "<table border=\"1\" class=\"dataframe\">\n",
       "  <thead>\n",
       "    <tr style=\"text-align: right;\">\n",
       "      <th></th>\n",
       "      <th>movieId</th>\n",
       "      <th>title</th>\n",
       "      <th>genre</th>\n",
       "      <th>year</th>\n",
       "      <th>actor</th>\n",
       "      <th>actress</th>\n",
       "      <th>director</th>\n",
       "      <th>producer</th>\n",
       "      <th>writer</th>\n",
       "    </tr>\n",
       "  </thead>\n",
       "  <tbody>\n",
       "    <tr>\n",
       "      <th>0</th>\n",
       "      <td>1</td>\n",
       "      <td>Toy Story</td>\n",
       "      <td>Adventure|Animation|Children|Comedy|Fantasy</td>\n",
       "      <td>1995</td>\n",
       "      <td>nm0000158|nm0000741|nm0725543|nm0001815</td>\n",
       "      <td>Unknown</td>\n",
       "      <td>nm0005124</td>\n",
       "      <td>Unknown</td>\n",
       "      <td>nm0169505|nm0230032|nm0004056|nm0710020|nm0923736</td>\n",
       "    </tr>\n",
       "    <tr>\n",
       "      <th>1</th>\n",
       "      <td>2</td>\n",
       "      <td>Jumanji</td>\n",
       "      <td>Adventure|Children|Fantasy</td>\n",
       "      <td>1995</td>\n",
       "      <td>nm0000245|nm0404993</td>\n",
       "      <td>nm0000379|nm0001372</td>\n",
       "      <td>nm0002653</td>\n",
       "      <td>nm0472256</td>\n",
       "      <td>nm0378144|nm0852430|nm0833164|nm0885575</td>\n",
       "    </tr>\n",
       "    <tr>\n",
       "      <th>2</th>\n",
       "      <td>3</td>\n",
       "      <td>Grumpier Old Men</td>\n",
       "      <td>Comedy|Romance</td>\n",
       "      <td>1995</td>\n",
       "      <td>nm0000527|nm0000493</td>\n",
       "      <td>nm0000268|nm0000047</td>\n",
       "      <td>nm0222043</td>\n",
       "      <td>nm0075828|nm0204862</td>\n",
       "      <td>nm0425756</td>\n",
       "    </tr>\n",
       "    <tr>\n",
       "      <th>3</th>\n",
       "      <td>4</td>\n",
       "      <td>Waiting to Exhale</td>\n",
       "      <td>Comedy|Drama|Romance</td>\n",
       "      <td>1995</td>\n",
       "      <td>Unknown</td>\n",
       "      <td>nm0001365|nm0000291|nm0222643|nm0005375</td>\n",
       "      <td>nm0001845</td>\n",
       "      <td>nm0771834|nm0842470</td>\n",
       "      <td>nm0573334|nm0060103</td>\n",
       "    </tr>\n",
       "    <tr>\n",
       "      <th>4</th>\n",
       "      <td>5</td>\n",
       "      <td>Father of the Bride Part II</td>\n",
       "      <td>Comedy</td>\n",
       "      <td>1995</td>\n",
       "      <td>nm0000188|nm0001737</td>\n",
       "      <td>nm0000473|nm0931090</td>\n",
       "      <td>nm0796124</td>\n",
       "      <td>Unknown</td>\n",
       "      <td>nm0352443|nm0329304|nm0583600</td>\n",
       "    </tr>\n",
       "  </tbody>\n",
       "</table>\n",
       "</div>"
      ],
      "text/plain": [
       "   movieId                        title   \n",
       "0        1                    Toy Story  \\\n",
       "1        2                      Jumanji   \n",
       "2        3             Grumpier Old Men   \n",
       "3        4            Waiting to Exhale   \n",
       "4        5  Father of the Bride Part II   \n",
       "\n",
       "                                         genre  year   \n",
       "0  Adventure|Animation|Children|Comedy|Fantasy  1995  \\\n",
       "1                   Adventure|Children|Fantasy  1995   \n",
       "2                               Comedy|Romance  1995   \n",
       "3                         Comedy|Drama|Romance  1995   \n",
       "4                                       Comedy  1995   \n",
       "\n",
       "                                     actor   \n",
       "0  nm0000158|nm0000741|nm0725543|nm0001815  \\\n",
       "1                      nm0000245|nm0404993   \n",
       "2                      nm0000527|nm0000493   \n",
       "3                                  Unknown   \n",
       "4                      nm0000188|nm0001737   \n",
       "\n",
       "                                   actress   director             producer   \n",
       "0                                  Unknown  nm0005124              Unknown  \\\n",
       "1                      nm0000379|nm0001372  nm0002653            nm0472256   \n",
       "2                      nm0000268|nm0000047  nm0222043  nm0075828|nm0204862   \n",
       "3  nm0001365|nm0000291|nm0222643|nm0005375  nm0001845  nm0771834|nm0842470   \n",
       "4                      nm0000473|nm0931090  nm0796124              Unknown   \n",
       "\n",
       "                                              writer  \n",
       "0  nm0169505|nm0230032|nm0004056|nm0710020|nm0923736  \n",
       "1            nm0378144|nm0852430|nm0833164|nm0885575  \n",
       "2                                          nm0425756  \n",
       "3                                nm0573334|nm0060103  \n",
       "4                      nm0352443|nm0329304|nm0583600  "
      ]
     },
     "execution_count": 34,
     "metadata": {},
     "output_type": "execute_result"
    }
   ],
   "source": [
    "movies.head()"
   ]
  },
  {
   "attachments": {},
   "cell_type": "markdown",
   "metadata": {},
   "source": [
    "## Experiments"
   ]
  },
  {
   "cell_type": "code",
   "execution_count": 39,
   "metadata": {},
   "outputs": [],
   "source": [
    "# We experiment with 6 subsamples of different size and levels of sparsity\n",
    "datasets = ['1_subsample_2018_2019_nopruning.csv',\n",
    "            '2_subsample_2018_2019_pruned.csv',\n",
    "            '3_subsample_2018_2019_5000_users.csv',\n",
    "            '4_subsample_2018_2019_5000_users_pruned.csv',\n",
    "            '5_subsample_2018_2019_1000_users.csv',\n",
    "            '6_subsample_2018_2019_1000_users_pruned.csv']\n",
    "\n",
    "# We experiment with 3 different split strategies\n",
    "split_strategies = ['random','leave_one_out','temporal']"
   ]
  },
  {
   "cell_type": "code",
   "execution_count": 40,
   "metadata": {},
   "outputs": [],
   "source": [
    "# define contants for the LightGCN model\n",
    "ITERATIONS = 1000 # V6imalik, et peaks t6stma\n",
    "BATCH_SIZE = 1024\n",
    "LR = 1e-3\n",
    "ITERS_PER_EVAL = 200\n",
    "ITERS_PER_LR_DECAY = 200\n",
    "K = [10, 20, 50, 100]\n",
    "LAMBDA = 1e-6"
   ]
  },
  {
   "cell_type": "code",
   "execution_count": 41,
   "metadata": {},
   "outputs": [
    {
     "name": "stdout",
     "output_type": "stream",
     "text": [
      "Starting a new experiment with 3_subsample_2018_2019_5000_users.csv and split strategy random\n",
      "Reading in the subsample ...\n",
      "Loading nodes...\n"
     ]
    },
    {
     "data": {
      "application/vnd.jupyter.widget-view+json": {
       "model_id": "b2b966ac7e6b486d841a4280ca175dff",
       "version_major": 2,
       "version_minor": 0
      },
      "text/plain": [
       "Batches:   0%|          | 0/832 [00:00<?, ?it/s]"
      ]
     },
     "metadata": {},
     "output_type": "display_data"
    },
    {
     "ename": "MemoryError",
     "evalue": "",
     "output_type": "error",
     "traceback": [
      "\u001b[1;31m---------------------------------------------------------------------------\u001b[0m",
      "\u001b[1;31mMemoryError\u001b[0m                               Traceback (most recent call last)",
      "Cell \u001b[1;32mIn[41], line 30\u001b[0m\n\u001b[0;32m     27\u001b[0m movies_in_this_subsample \u001b[39m=\u001b[39m movies[movies\u001b[39m.\u001b[39mmovieId\u001b[39m.\u001b[39misin(movies_in_ratings)]\n\u001b[0;32m     29\u001b[0m \u001b[39m# Load movie (item) nodes\u001b[39;00m\n\u001b[1;32m---> 30\u001b[0m movie_x, movie_mapping \u001b[39m=\u001b[39m load_nodes(movies_in_this_subsample,\n\u001b[0;32m     31\u001b[0m                             index_col\u001b[39m=\u001b[39;49m\u001b[39m'\u001b[39;49m\u001b[39mmovieId\u001b[39;49m\u001b[39m'\u001b[39;49m,\n\u001b[0;32m     32\u001b[0m                             encoders\u001b[39m=\u001b[39;49m{\u001b[39m'\u001b[39;49m\u001b[39mtitle\u001b[39;49m\u001b[39m'\u001b[39;49m: SequenceEncoder(),\n\u001b[0;32m     33\u001b[0m                                       \u001b[39m'\u001b[39;49m\u001b[39mgenre\u001b[39;49m\u001b[39m'\u001b[39;49m: CategoryEncoder(),\n\u001b[0;32m     34\u001b[0m                                       \u001b[39m'\u001b[39;49m\u001b[39myear\u001b[39;49m\u001b[39m'\u001b[39;49m: CategoryEncoder(),\n\u001b[0;32m     35\u001b[0m                                       \u001b[39m'\u001b[39;49m\u001b[39mactor\u001b[39;49m\u001b[39m'\u001b[39;49m: CategoryEncoder(),\n\u001b[0;32m     36\u001b[0m                                       \u001b[39m'\u001b[39;49m\u001b[39mactress\u001b[39;49m\u001b[39m'\u001b[39;49m: CategoryEncoder(),\n\u001b[0;32m     37\u001b[0m                                       \u001b[39m'\u001b[39;49m\u001b[39mdirector\u001b[39;49m\u001b[39m'\u001b[39;49m: CategoryEncoder(),\n\u001b[0;32m     38\u001b[0m                                       \u001b[39m'\u001b[39;49m\u001b[39mproducer\u001b[39;49m\u001b[39m'\u001b[39;49m: CategoryEncoder(),\n\u001b[0;32m     39\u001b[0m                                       \u001b[39m'\u001b[39;49m\u001b[39mwriter\u001b[39;49m\u001b[39m'\u001b[39;49m: CategoryEncoder()})\n\u001b[0;32m     41\u001b[0m \u001b[39mprint\u001b[39m(\u001b[39m'\u001b[39m\u001b[39mLoading edges...\u001b[39m\u001b[39m'\u001b[39m)\n\u001b[0;32m     42\u001b[0m \u001b[39m# Load edges\u001b[39;00m\n",
      "File \u001b[1;32mc:\\Users\\kohvk\\Documents\\UT-network-science-project-2023\\graph.py:14\u001b[0m, in \u001b[0;36mload_nodes\u001b[1;34m(df, index_col, encoders)\u001b[0m\n\u001b[0;32m     12\u001b[0m x \u001b[39m=\u001b[39m \u001b[39mNone\u001b[39;00m\n\u001b[0;32m     13\u001b[0m \u001b[39mif\u001b[39;00m encoders \u001b[39mis\u001b[39;00m \u001b[39mnot\u001b[39;00m \u001b[39mNone\u001b[39;00m:\n\u001b[1;32m---> 14\u001b[0m     xs \u001b[39m=\u001b[39m [encoder(df_reset[col]) \u001b[39mfor\u001b[39;49;00m col, encoder \u001b[39min\u001b[39;49;00m encoders\u001b[39m.\u001b[39;49mitems()]\n\u001b[0;32m     15\u001b[0m     x \u001b[39m=\u001b[39m torch\u001b[39m.\u001b[39mcat(xs, dim\u001b[39m=\u001b[39m\u001b[39m-\u001b[39m\u001b[39m1\u001b[39m)\n\u001b[0;32m     17\u001b[0m \u001b[39mreturn\u001b[39;00m x, mapping\n",
      "File \u001b[1;32mc:\\Users\\kohvk\\Documents\\UT-network-science-project-2023\\graph.py:14\u001b[0m, in \u001b[0;36m<listcomp>\u001b[1;34m(.0)\u001b[0m\n\u001b[0;32m     12\u001b[0m x \u001b[39m=\u001b[39m \u001b[39mNone\u001b[39;00m\n\u001b[0;32m     13\u001b[0m \u001b[39mif\u001b[39;00m encoders \u001b[39mis\u001b[39;00m \u001b[39mnot\u001b[39;00m \u001b[39mNone\u001b[39;00m:\n\u001b[1;32m---> 14\u001b[0m     xs \u001b[39m=\u001b[39m [encoder(df_reset[col]) \u001b[39mfor\u001b[39;00m col, encoder \u001b[39min\u001b[39;00m encoders\u001b[39m.\u001b[39mitems()]\n\u001b[0;32m     15\u001b[0m     x \u001b[39m=\u001b[39m torch\u001b[39m.\u001b[39mcat(xs, dim\u001b[39m=\u001b[39m\u001b[39m-\u001b[39m\u001b[39m1\u001b[39m)\n\u001b[0;32m     17\u001b[0m \u001b[39mreturn\u001b[39;00m x, mapping\n",
      "File \u001b[1;32mc:\\Users\\kohvk\\Documents\\UT-network-science-project-2023\\graph.py:57\u001b[0m, in \u001b[0;36mCategoryEncoder.__call__\u001b[1;34m(self, df)\u001b[0m\n\u001b[0;32m     56\u001b[0m \u001b[39mdef\u001b[39;00m \u001b[39m__call__\u001b[39m(\u001b[39mself\u001b[39m, df):\n\u001b[1;32m---> 57\u001b[0m     categories \u001b[39m=\u001b[39m \u001b[39mset\u001b[39m(c \u001b[39mfor\u001b[39;00m col \u001b[39min\u001b[39;00m df\u001b[39m.\u001b[39mvalues \u001b[39mfor\u001b[39;00m c \u001b[39min\u001b[39;00m col\u001b[39m.\u001b[39msplit(\u001b[39mself\u001b[39m\u001b[39m.\u001b[39msep))\n\u001b[0;32m     58\u001b[0m     mapping \u001b[39m=\u001b[39m {category: i \u001b[39mfor\u001b[39;00m i, category \u001b[39min\u001b[39;00m \u001b[39menumerate\u001b[39m(categories)}\n\u001b[0;32m     60\u001b[0m     x \u001b[39m=\u001b[39m torch\u001b[39m.\u001b[39mzeros(\u001b[39mlen\u001b[39m(df), \u001b[39mlen\u001b[39m(mapping))\n",
      "\u001b[1;31mMemoryError\u001b[0m: "
     ]
    }
   ],
   "source": [
    "all_train_losses = []\n",
    "all_val_losses = []\n",
    "all_test_losses = []\n",
    "all_recalls = []\n",
    "all_precisions = []\n",
    "all_ndcgs = []\n",
    "elapsed_times = []\n",
    "\n",
    "# We have 6x3=18 experiments in total\n",
    "for dataset_file in datasets:\n",
    "    for split_strategy in split_strategies:\n",
    "\n",
    "        print(f'Starting a new experiment with {dataset_file} and split strategy {split_strategy}')\n",
    "        starttime = timeit.default_timer()\n",
    "\n",
    "        print('Reading in the subsample ...')\n",
    "        # Read in the subsample\n",
    "        rating_path = f'./data/{dataset_file}'\n",
    "        ratings = pd.read_csv(rating_path)\n",
    "\n",
    "        print('Loading nodes...')\n",
    "        # Load user nodes\n",
    "        user_x, user_mapping = load_nodes(ratings, index_col='userId')\n",
    "\n",
    "        # Keep only movies that are in the subsample\n",
    "        movies_in_ratings = ratings.movieId.unique()\n",
    "        movies_in_this_subsample = movies[movies.movieId.isin(movies_in_ratings)]\n",
    "\n",
    "        # Load movie (item) nodes\n",
    "        movie_x, movie_mapping = load_nodes(movies_in_this_subsample,\n",
    "                                    index_col='movieId',\n",
    "                                    encoders={'title': SequenceEncoder(),\n",
    "                                              'genre': CategoryEncoder(),\n",
    "                                              'year': CategoryEncoder(),\n",
    "                                              'actor': CategoryEncoder(),\n",
    "                                              'actress': CategoryEncoder(),\n",
    "                                              'director': CategoryEncoder(),\n",
    "                                              'producer': CategoryEncoder(),\n",
    "                                              'writer': CategoryEncoder()})\n",
    "        \n",
    "        print('Loading edges...')\n",
    "        # Load edges\n",
    "        edge_index, edge_attr, edge_timestamp = load_edges(ratings,\n",
    "                                                           src_index_col='userId',\n",
    "                                                           src_mapping=user_mapping,\n",
    "                                                           dst_index_col='movieId',\n",
    "                                                           dst_mapping=movie_mapping\n",
    "                                                           )\n",
    "        \n",
    "        num_users, num_movies = len(user_mapping), len(movie_mapping)\n",
    "        print('Users in total: ', num_users)\n",
    "        print('Movies in total: ', num_movies)\n",
    "\n",
    "        print('Train-test split...')\n",
    "        # Split the edges according to the split strategy\n",
    "        train_edge_index, val_edge_index, test_edge_index = train_val_test_split(edge_index, split_strategy)\n",
    "\n",
    "        num_edges_in_train = train_edge_index.shape[1]\n",
    "        num_edges_in_val = val_edge_index.shape[1]\n",
    "        num_edges_in_test = test_edge_index.shape[1]\n",
    "\n",
    "        print('Num edges in training set: ', num_edges_in_train)\n",
    "        print('Num edges in validation set: ', num_edges_in_val)\n",
    "        print('Num edges in test set: ', num_edges_in_test)\n",
    "\n",
    "        # Convert edge indices into Sparse Tensors: https://pytorch-geometric.readthedocs.io/en/latest/notes/sparse_tensor.html\n",
    "        train_sparse_edge_index = SparseTensor(row=train_edge_index[0], col=train_edge_index[1], sparse_sizes=(\n",
    "            num_users + num_movies, num_users + num_movies))\n",
    "        val_sparse_edge_index = SparseTensor(row=val_edge_index[0], col=val_edge_index[1], sparse_sizes=(\n",
    "            num_users + num_movies, num_users + num_movies))\n",
    "        test_sparse_edge_index = SparseTensor(row=test_edge_index[0], col=test_edge_index[1], sparse_sizes=(\n",
    "            num_users + num_movies, num_users + num_movies))\n",
    "        \n",
    "\n",
    "        # The model\n",
    "        model = LightGCN(num_users, num_movies)\n",
    "        \n",
    "        # Setup\n",
    "        device = torch.device('cuda' if torch.cuda.is_available() else 'cpu')\n",
    "        print(f\"Using device {device}.\")\n",
    "\n",
    "        model = model.to(device)\n",
    "        model.train()\n",
    "\n",
    "        optimizer = optim.Adam(model.parameters(), lr=LR)\n",
    "        scheduler = optim.lr_scheduler.ExponentialLR(optimizer, gamma=0.95)\n",
    "\n",
    "        edge_index = edge_index.to(device)\n",
    "        train_edge_index = train_edge_index.to(device)\n",
    "        train_sparse_edge_index = train_sparse_edge_index.to(device)\n",
    "\n",
    "        val_edge_index = val_edge_index.to(device)\n",
    "        val_sparse_edge_index = val_sparse_edge_index.to(device)\n",
    "\n",
    "        # training loop\n",
    "        train_losses = []\n",
    "        val_losses = []\n",
    "\n",
    "        for iter in range(ITERATIONS):\n",
    "            # forward propagation\n",
    "            users_emb_final, users_emb_0, items_emb_final, items_emb_0 = model.forward(\n",
    "                train_sparse_edge_index)\n",
    "\n",
    "            # mini batching\n",
    "            user_indices, pos_item_indices, neg_item_indices = sample_mini_batch(\n",
    "                BATCH_SIZE, train_edge_index)\n",
    "            user_indices, pos_item_indices, neg_item_indices = user_indices.to(\n",
    "                device), pos_item_indices.to(device), neg_item_indices.to(device)\n",
    "            users_emb_final, users_emb_0 = users_emb_final[user_indices], users_emb_0[user_indices]\n",
    "            pos_items_emb_final, pos_items_emb_0 = items_emb_final[\n",
    "                pos_item_indices], items_emb_0[pos_item_indices]\n",
    "            neg_items_emb_final, neg_items_emb_0 = items_emb_final[\n",
    "                neg_item_indices], items_emb_0[neg_item_indices]\n",
    "\n",
    "            # loss computation\n",
    "            train_loss = bpr_loss(users_emb_final, users_emb_0, pos_items_emb_final,\n",
    "                                pos_items_emb_0, neg_items_emb_final, neg_items_emb_0, LAMBDA)\n",
    "\n",
    "            optimizer.zero_grad()\n",
    "            train_loss.backward()\n",
    "            optimizer.step()\n",
    "\n",
    "            if iter % ITERS_PER_EVAL == 0:\n",
    "                model.eval()\n",
    "                print(f\"[Iteration {iter}/{ITERATIONS}]\")\n",
    "                print('Train loss: ', train_loss)\n",
    "                print('Validation:')\n",
    "                val_loss, recall, precision, ndcg = evaluation(\n",
    "                    model, val_edge_index, val_sparse_edge_index, [train_edge_index], K, LAMBDA)\n",
    "                train_losses.append(train_loss.item())\n",
    "                val_losses.append(val_loss)\n",
    "                model.train()\n",
    "\n",
    "            if iter % ITERS_PER_LR_DECAY == 0 and iter != 0:\n",
    "                scheduler.step()\n",
    "\n",
    "        all_train_losses.append(train_losses)\n",
    "        all_val_losses.append(val_losses)\n",
    "\n",
    "        print('Evaluating...')\n",
    "        # evaluate on test set\n",
    "        model.eval()\n",
    "        test_edge_index = test_edge_index.to(device)\n",
    "        test_sparse_edge_index = test_sparse_edge_index.to(device)\n",
    "\n",
    "        print('Performance on test set:')\n",
    "        test_loss, test_recall, test_precision, test_ndcg = evaluation(\n",
    "                    model, test_edge_index, test_sparse_edge_index, [train_edge_index, val_edge_index], K, LAMBDA)\n",
    "\n",
    "        all_test_losses.append(test_loss)\n",
    "        all_recalls.append(test_recall)\n",
    "        all_precisions.append(test_precision)\n",
    "        all_ndcgs.append(test_ndcg)\n",
    "\n",
    "        print('DONE!')\n",
    "        time_elapsed = timeit.default_timer() - starttime\n",
    "        print(\"Time elapsed :\", time_elapsed)\n",
    "        elapsed_times.append(time_elapsed)\n",
    "        print()"
   ]
  },
  {
   "attachments": {},
   "cell_type": "markdown",
   "metadata": {},
   "source": [
    "# Plot training and validation loss curves"
   ]
  },
  {
   "cell_type": "code",
   "execution_count": null,
   "metadata": {},
   "outputs": [
    {
     "data": {
      "image/png": "[encoded data removed]",
      "text/plain": [
       "<Figure size 640x480 with 1 Axes>"
      ]
     },
     "metadata": {},
     "output_type": "display_data"
    }
   ],
   "source": [
    "# Only the first model here\n",
    "train_losses = all_train_losses[0]\n",
    "val_losses = all_val_losses[0]\n",
    "    \n",
    "iters = [iter * ITERS_PER_EVAL for iter in range(len(train_losses))]\n",
    "plt.plot(iters, train_losses, label='train')\n",
    "plt.plot(iters, val_losses, label='validation')\n",
    "plt.xlabel('iteration')\n",
    "plt.ylabel('loss')\n",
    "plt.title('training and validation loss curves')\n",
    "plt.legend()\n",
    "plt.show()"
   ]
  },
  {
   "attachments": {},
   "cell_type": "markdown",
   "metadata": {},
   "source": [
    "## Analyze results"
   ]
  },
  {
   "cell_type": "code",
   "execution_count": 1,
   "metadata": {},
   "outputs": [
    {
     "ename": "NameError",
     "evalue": "name 'all_recalls' is not defined",
     "output_type": "error",
     "traceback": [
      "\u001b[1;31m---------------------------------------------------------------------------\u001b[0m",
      "\u001b[1;31mNameError\u001b[0m                                 Traceback (most recent call last)",
      "Cell \u001b[1;32mIn[1], line 1\u001b[0m\n\u001b[1;32m----> 1\u001b[0m all_recalls\n",
      "\u001b[1;31mNameError\u001b[0m: name 'all_recalls' is not defined"
     ]
    }
   ],
   "source": [
    "all_recalls\n",
    "\n",
    "with open(\"all_recalls\", \"wb\") as fp\n",
    "    pickle.dump(all_recalls, fp)"
   ]
  },
  {
   "cell_type": "code",
   "execution_count": null,
   "metadata": {},
   "outputs": [
    {
     "data": {
      "text/plain": [
       "[{10: 0.08065984398126602,\n",
       "  20: 0.06837315112352371,\n",
       "  50: 0.04912400245666504,\n",
       "  100: 0.03742889687418938},\n",
       " {10: 0.07685589790344238,\n",
       "  20: 0.07117903977632523,\n",
       "  50: 0.06401746720075607,\n",
       "  100: 0.054192136973142624}]"
      ]
     },
     "execution_count": 19,
     "metadata": {},
     "output_type": "execute_result"
    }
   ],
   "source": [
    "all_precisions\n",
    "\n",
    "with open(\"all_recalls\", \"wb\") as fp:\n",
    "    pickle.dump(all_precisions, fp)"
   ]
  },
  {
   "cell_type": "code",
   "execution_count": null,
   "metadata": {},
   "outputs": [
    {
     "data": {
      "text/plain": [
       "[{10: 0.11464986950159073,\n",
       "  20: 0.12527789175510406,\n",
       "  50: 0.15551409125328064,\n",
       "  100: 0.19307999312877655},\n",
       " {10: 0.0792759507894516,\n",
       "  20: 0.07767077535390854,\n",
       "  50: 0.08617361634969711,\n",
       "  100: 0.09683065116405487}]"
      ]
     },
     "execution_count": 20,
     "metadata": {},
     "output_type": "execute_result"
    }
   ],
   "source": [
    "all_ndcgs\n",
    "with open(\"all_ndcgs\", \"wb\") as fp:\n",
    "    pickle.dump(all_ndcgs, fp)"
   ]
  },
  {
   "cell_type": "code",
   "execution_count": null,
   "metadata": {},
   "outputs": [
    {
     "data": {
      "text/plain": [
       "[401.93629139999393, 395.3831009999849]"
      ]
     },
     "execution_count": 21,
     "metadata": {},
     "output_type": "execute_result"
    }
   ],
   "source": [
    "elapsed_times\n",
    "with open(\"elapsed_times\", \"wb\") as fp:\n",
    "    pickle.dump(elapsed_times, fp)"
   ]
  },
  {
   "attachments": {},
   "cell_type": "markdown",
   "metadata": {},
   "source": [
    "## References"
   ]
  },
  {
   "attachments": {},
   "cell_type": "markdown",
   "metadata": {},
   "source": [
    "Our code is inspired by these tutorials:\n",
    "- https://colab.research.google.com/drive/1VfP6JlWbX_AJnx88yN1tM3BYE6XAADiy?usp=sharing \n",
    "- https://colab.research.google.com/drive/1KKugoFyUdydYC0XRyddcROzfQdMwDcnO?usp=sharing&fbclid=IwAR1-1pncUhTk5HZ8tP74e6thaK2gBaTD0FX7uqABTzE_-OLSLpSaUBOq0mA\n",
    "- https://colab.research.google.com/drive/1xpzn1Nvai1ygd_P5Yambc_oe4VBPK_ZT?usp=sharing&fbclid=IwAR1jsKGQhpdRrM22Fgg5ljTa4x1c4epqlTPsgou_2mIo6rBmjnLY1q8TmMU#scrollTo=D6ixkcCOwCDi\n",
    "- https://github.com/gusye1234/LightGCN-PyTorch\n",
    "- https://www.kaggle.com/dipanjandas96/lightgcn-pytorch-from-scratch\n",
    "- https://pytorch-geometric.readthedocs.io/en/latest/notes/load_csv.html"
   ]
  }
 ],
 "metadata": {
  "kernelspec": {
   "display_name": "atm_2022",
   "language": "python",
   "name": "python3"
  },
  "language_info": {
   "codemirror_mode": {
    "name": "ipython",
    "version": 3
   },
   "file_extension": ".py",
   "mimetype": "text/x-python",
   "name": "python",
   "nbconvert_exporter": "python",
   "pygments_lexer": "ipython3",
   "version": "3.11.3"
  },
  "orig_nbformat": 4
 },
 "nbformat": 4,
 "nbformat_minor": 2
}
