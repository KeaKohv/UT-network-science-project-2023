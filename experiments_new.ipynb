{
 "cells": [
  {
   "attachments": {},
   "cell_type": "markdown",
   "metadata": {},
   "source": [
    "# Experiments\n",
    "\n",
    "**MovieLens 25M dataset subsamples**\n",
    "\n",
    "We have 6 subsamples (see subsample_creation.ipynb and Dataset chapter in the article). 2 are large, 2 are medium, 2 are small. Of each pair, one has higher level of data pruning, and the other has lower resulting in higher sparsity and lower sparsity.\n",
    "\n",
    "**Models**\n",
    "\n",
    "We compare the performance of these models for the top-N recommendation task:\n",
    "- LightGCN\n",
    "- model 2\n",
    "\n",
    "**Metrics**\n",
    "\n",
    "As performance metrics we use:\n",
    "- Recall@K\n",
    "- Precision@K\n",
    "- NDCG@K\n",
    "\n",
    "We use K = [10, 20, 50, 100] to see if different K-s influence the ranking"
   ]
  },
  {
   "attachments": {},
   "cell_type": "markdown",
   "metadata": {},
   "source": [
    "## Import libraries"
   ]
  },
  {
   "cell_type": "code",
   "execution_count": 1,
   "metadata": {},
   "outputs": [
    {
     "name": "stdout",
     "output_type": "stream",
     "text": [
      "2.0.1\n"
     ]
    }
   ],
   "source": [
    "# Import torch\n",
    "\n",
    "import torch\n",
    "from torch import Tensor\n",
    "print(torch.__version__)"
   ]
  },
  {
   "cell_type": "code",
   "execution_count": 2,
   "metadata": {},
   "outputs": [],
   "source": [
    "# Import libraries\n",
    "import os\n",
    "import timeit\n",
    "from tqdm import tqdm\n",
    "import pandas as pd\n",
    "import numpy as np\n",
    "import matplotlib.pyplot as plt\n",
    "from sklearn.model_selection import train_test_split\n",
    "\n",
    "from torch import nn, optim\n",
    "from torch_sparse import SparseTensor, matmul\n",
    "from torch_geometric.utils import structured_negative_sampling\n",
    "from torch_geometric.nn.conv.gcn_conv import gcn_norm\n",
    "from torch_geometric.nn.conv import MessagePassing\n",
    "from torch_geometric.typing import Adj\n",
    "\n",
    "from graph import *\n",
    "from lightgcn import *"
   ]
  },
  {
   "attachments": {},
   "cell_type": "markdown",
   "metadata": {},
   "source": [
    "## Load movie data"
   ]
  },
  {
   "cell_type": "code",
   "execution_count": 3,
   "metadata": {},
   "outputs": [],
   "source": [
    "# Read in the movies data\n",
    "movies_path = './data/movie_ml_imdb.csv'\n",
    "movies = pd.read_csv(movies_path, sep='\\t')\n",
    "\n",
    "# Keep only the columns of interest to us\n",
    "movies = movies[['movieId', 'title', 'genres_ml', 'year', 'actor', 'actress', 'director', 'producer', 'writer']]\n",
    "\n",
    "# Replace \\N\n",
    "movies = movies.replace(r'\\\\N',  'Unknown', regex=True)\n",
    "\n",
    "# Rename genres\n",
    "movies = movies.rename(columns={\"genres_ml\": \"genre\"})"
   ]
  },
  {
   "cell_type": "code",
   "execution_count": 4,
   "metadata": {},
   "outputs": [
    {
     "data": {
      "text/html": [
       "<div>\n",
       "<style scoped>\n",
       "    .dataframe tbody tr th:only-of-type {\n",
       "        vertical-align: middle;\n",
       "    }\n",
       "\n",
       "    .dataframe tbody tr th {\n",
       "        vertical-align: top;\n",
       "    }\n",
       "\n",
       "    .dataframe thead th {\n",
       "        text-align: right;\n",
       "    }\n",
       "</style>\n",
       "<table border=\"1\" class=\"dataframe\">\n",
       "  <thead>\n",
       "    <tr style=\"text-align: right;\">\n",
       "      <th></th>\n",
       "      <th>movieId</th>\n",
       "      <th>title</th>\n",
       "      <th>genre</th>\n",
       "      <th>year</th>\n",
       "      <th>actor</th>\n",
       "      <th>actress</th>\n",
       "      <th>director</th>\n",
       "      <th>producer</th>\n",
       "      <th>writer</th>\n",
       "    </tr>\n",
       "  </thead>\n",
       "  <tbody>\n",
       "    <tr>\n",
       "      <th>0</th>\n",
       "      <td>1</td>\n",
       "      <td>Toy Story</td>\n",
       "      <td>Adventure|Animation|Children|Comedy|Fantasy</td>\n",
       "      <td>1995</td>\n",
       "      <td>nm0000158|nm0000741|nm0725543|nm0001815</td>\n",
       "      <td>Unknown</td>\n",
       "      <td>nm0005124</td>\n",
       "      <td>Unknown</td>\n",
       "      <td>nm0169505|nm0230032|nm0004056|nm0710020|nm0923736</td>\n",
       "    </tr>\n",
       "    <tr>\n",
       "      <th>1</th>\n",
       "      <td>2</td>\n",
       "      <td>Jumanji</td>\n",
       "      <td>Adventure|Children|Fantasy</td>\n",
       "      <td>1995</td>\n",
       "      <td>nm0000245|nm0404993</td>\n",
       "      <td>nm0000379|nm0001372</td>\n",
       "      <td>nm0002653</td>\n",
       "      <td>nm0472256</td>\n",
       "      <td>nm0378144|nm0852430|nm0833164|nm0885575</td>\n",
       "    </tr>\n",
       "    <tr>\n",
       "      <th>2</th>\n",
       "      <td>3</td>\n",
       "      <td>Grumpier Old Men</td>\n",
       "      <td>Comedy|Romance</td>\n",
       "      <td>1995</td>\n",
       "      <td>nm0000527|nm0000493</td>\n",
       "      <td>nm0000268|nm0000047</td>\n",
       "      <td>nm0222043</td>\n",
       "      <td>nm0075828|nm0204862</td>\n",
       "      <td>nm0425756</td>\n",
       "    </tr>\n",
       "    <tr>\n",
       "      <th>3</th>\n",
       "      <td>4</td>\n",
       "      <td>Waiting to Exhale</td>\n",
       "      <td>Comedy|Drama|Romance</td>\n",
       "      <td>1995</td>\n",
       "      <td>Unknown</td>\n",
       "      <td>nm0001365|nm0000291|nm0222643|nm0005375</td>\n",
       "      <td>nm0001845</td>\n",
       "      <td>nm0771834|nm0842470</td>\n",
       "      <td>nm0573334|nm0060103</td>\n",
       "    </tr>\n",
       "    <tr>\n",
       "      <th>4</th>\n",
       "      <td>5</td>\n",
       "      <td>Father of the Bride Part II</td>\n",
       "      <td>Comedy</td>\n",
       "      <td>1995</td>\n",
       "      <td>nm0000188|nm0001737</td>\n",
       "      <td>nm0000473|nm0931090</td>\n",
       "      <td>nm0796124</td>\n",
       "      <td>Unknown</td>\n",
       "      <td>nm0352443|nm0329304|nm0583600</td>\n",
       "    </tr>\n",
       "  </tbody>\n",
       "</table>\n",
       "</div>"
      ],
      "text/plain": [
       "   movieId                        title   \n",
       "0        1                    Toy Story  \\\n",
       "1        2                      Jumanji   \n",
       "2        3             Grumpier Old Men   \n",
       "3        4            Waiting to Exhale   \n",
       "4        5  Father of the Bride Part II   \n",
       "\n",
       "                                         genre  year   \n",
       "0  Adventure|Animation|Children|Comedy|Fantasy  1995  \\\n",
       "1                   Adventure|Children|Fantasy  1995   \n",
       "2                               Comedy|Romance  1995   \n",
       "3                         Comedy|Drama|Romance  1995   \n",
       "4                                       Comedy  1995   \n",
       "\n",
       "                                     actor   \n",
       "0  nm0000158|nm0000741|nm0725543|nm0001815  \\\n",
       "1                      nm0000245|nm0404993   \n",
       "2                      nm0000527|nm0000493   \n",
       "3                                  Unknown   \n",
       "4                      nm0000188|nm0001737   \n",
       "\n",
       "                                   actress   director             producer   \n",
       "0                                  Unknown  nm0005124              Unknown  \\\n",
       "1                      nm0000379|nm0001372  nm0002653            nm0472256   \n",
       "2                      nm0000268|nm0000047  nm0222043  nm0075828|nm0204862   \n",
       "3  nm0001365|nm0000291|nm0222643|nm0005375  nm0001845  nm0771834|nm0842470   \n",
       "4                      nm0000473|nm0931090  nm0796124              Unknown   \n",
       "\n",
       "                                              writer  \n",
       "0  nm0169505|nm0230032|nm0004056|nm0710020|nm0923736  \n",
       "1            nm0378144|nm0852430|nm0833164|nm0885575  \n",
       "2                                          nm0425756  \n",
       "3                                nm0573334|nm0060103  \n",
       "4                      nm0352443|nm0329304|nm0583600  "
      ]
     },
     "execution_count": 4,
     "metadata": {},
     "output_type": "execute_result"
    }
   ],
   "source": [
    "movies.head()"
   ]
  },
  {
   "attachments": {},
   "cell_type": "markdown",
   "metadata": {},
   "source": [
    "## Experiments"
   ]
  },
  {
   "cell_type": "code",
   "execution_count": 5,
   "metadata": {},
   "outputs": [],
   "source": [
    "# We experiment with 6 subsamples of different size and levels of sparsity\n",
    "datasets = ['1_subsample_2018_2019_nopruning.csv',\n",
    "            '2_subsample_2018_2019_pruned.csv',\n",
    "            '3_subsample_2018_2019_5000_users.csv',\n",
    "            '4_subsample_2018_2019_5000_users_pruned.csv',\n",
    "            '5_subsample_2018_2019_1000_users.csv',\n",
    "            '6_subsample_2018_2019_1000_users_pruned.csv']\n",
    "\n",
    "# We experiment with 3 different split strategies\n",
    "split_strategies = ['random','leave_one_out','temporal']"
   ]
  },
  {
   "cell_type": "code",
   "execution_count": 6,
   "metadata": {},
   "outputs": [],
   "source": [
    "# Ensure it works first\n",
    "\n",
    "datasets = ['6_subsample_2018_2019_1000_users_pruned.csv']\n",
    "split_strategies = ['random', 'temporal']"
   ]
  },
  {
   "cell_type": "code",
   "execution_count": 7,
   "metadata": {},
   "outputs": [],
   "source": [
    "# define contants for the LightGCN model\n",
    "ITERATIONS = 10000\n",
    "BATCH_SIZE = 1024\n",
    "LR = 1e-3\n",
    "ITERS_PER_EVAL = 200\n",
    "ITERS_PER_LR_DECAY = 200\n",
    "K = [10, 20, 50, 100]\n",
    "LAMBDA = 1e-6"
   ]
  },
  {
   "cell_type": "code",
   "execution_count": 8,
   "metadata": {},
   "outputs": [
    {
     "name": "stdout",
     "output_type": "stream",
     "text": [
      "Starting a new experiment with 6_subsample_2018_2019_1000_users_pruned.csv and split strategy random\n",
      "Reading in the subsample ...\n",
      "Loading nodes...\n"
     ]
    },
    {
     "data": {
      "application/vnd.jupyter.widget-view+json": {
       "model_id": "ad155198970d4a08b39614e584c59378",
       "version_major": 2,
       "version_minor": 0
      },
      "text/plain": [
       "Batches:   0%|          | 0/68 [00:00<?, ?it/s]"
      ]
     },
     "metadata": {},
     "output_type": "display_data"
    },
    {
     "name": "stdout",
     "output_type": "stream",
     "text": [
      "Loading edges...\n",
      "Users in total:  909\n",
      "Movies in total:  2146\n",
      "Train-test split...\n",
      "Num edges in training set:  79892\n",
      "Num edges in validation set:  9987\n",
      "Num edges in test set:  9987\n",
      "Using device cpu.\n",
      "[Iteration 0/10000]\n",
      "Train loss:  tensor(-0.6910, grad_fn=<AddBackward0>)\n",
      "Validation:\n",
      "Loss:  -0.6739947199821472\n",
      "[recall@10: 0.00522, precision@10: 0.00645, ndcg@10: 0.00692\n",
      "[recall@20: 0.01101, precision@20: 0.00526, ndcg@20: 0.00824\n",
      "[recall@50: 0.02826, precision@50: 0.00593, ndcg@50: 0.01425\n",
      "[recall@100: 0.05044, precision@100: 0.00607, ndcg@100: 0.02187\n",
      "[Iteration 200/10000]\n",
      "Train loss:  tensor(-0.7045, grad_fn=<AddBackward0>)\n",
      "Validation:\n",
      "Loss:  -0.6841495037078857\n",
      "[recall@10: 0.04495, precision@10: 0.04378, ndcg@10: 0.05417\n",
      "[recall@20: 0.07981, precision@20: 0.03869, ndcg@20: 0.06342\n",
      "[recall@50: 0.15074, precision@50: 0.03084, ndcg@50: 0.08681\n",
      "[recall@100: 0.26552, precision@100: 0.02654, ndcg@100: 0.1211\n",
      "[Iteration 400/10000]\n",
      "Train loss:  tensor(-1.0714, grad_fn=<AddBackward0>)\n",
      "Validation:\n",
      "Loss:  -0.9334325790405273\n",
      "[recall@10: 0.078, precision@10: 0.06923, ndcg@10: 0.09697\n",
      "[recall@20: 0.12625, precision@20: 0.0595, ndcg@20: 0.10884\n",
      "[recall@50: 0.22953, precision@50: 0.04572, ndcg@50: 0.14247\n",
      "[recall@100: 0.34919, precision@100: 0.03532, ndcg@100: 0.17918\n",
      "[Iteration 600/10000]\n",
      "Train loss:  tensor(-2.7799, grad_fn=<AddBackward0>)\n",
      "Validation:\n",
      "Loss:  -2.2206358909606934\n",
      "[recall@10: 0.08414, precision@10: 0.07115, ndcg@10: 0.1002\n",
      "[recall@20: 0.13031, precision@20: 0.05967, ndcg@20: 0.11086\n",
      "[recall@50: 0.23023, precision@50: 0.04597, ndcg@50: 0.1442\n",
      "[recall@100: 0.35751, precision@100: 0.03598, ndcg@100: 0.1831\n",
      "[Iteration 800/10000]\n",
      "Train loss:  tensor(-5.2968, grad_fn=<AddBackward0>)\n",
      "Validation:\n",
      "Loss:  -4.1324872970581055\n",
      "[recall@10: 0.0832, precision@10: 0.0707, ndcg@10: 0.09882\n",
      "[recall@20: 0.13273, precision@20: 0.06086, ndcg@20: 0.11113\n",
      "[recall@50: 0.23396, precision@50: 0.04609, ndcg@50: 0.14466\n",
      "[recall@100: 0.3567, precision@100: 0.03606, ndcg@100: 0.18259\n",
      "[Iteration 1000/10000]\n",
      "Train loss:  tensor(-8.5968, grad_fn=<AddBackward0>)\n",
      "Validation:\n",
      "Loss:  -6.483708381652832\n",
      "[recall@10: 0.08623, precision@10: 0.07195, ndcg@10: 0.10012\n",
      "[recall@20: 0.13247, precision@20: 0.06092, ndcg@20: 0.1114\n",
      "[recall@50: 0.23456, precision@50: 0.0462, ndcg@50: 0.145\n",
      "[recall@100: 0.35893, precision@100: 0.03607, ndcg@100: 0.18311\n",
      "[Iteration 1200/10000]\n",
      "Train loss:  tensor(-11.3047, grad_fn=<AddBackward0>)\n",
      "Validation:\n",
      "Loss:  -9.182920455932617\n",
      "[recall@10: 0.08715, precision@10: 0.07274, ndcg@10: 0.09942\n",
      "[recall@20: 0.13262, precision@20: 0.06092, ndcg@20: 0.11021\n",
      "[recall@50: 0.2353, precision@50: 0.04624, ndcg@50: 0.14409\n",
      "[recall@100: 0.35776, precision@100: 0.03607, ndcg@100: 0.18179\n",
      "[Iteration 1400/10000]\n",
      "Train loss:  tensor(-14.1920, grad_fn=<AddBackward0>)\n",
      "Validation:\n",
      "Loss:  -11.618974685668945\n",
      "[recall@10: 0.08458, precision@10: 0.07308, ndcg@10: 0.09969\n",
      "[recall@20: 0.13129, precision@20: 0.06018, ndcg@20: 0.11006\n",
      "[recall@50: 0.23571, precision@50: 0.04611, ndcg@50: 0.14453\n",
      "[recall@100: 0.35631, precision@100: 0.03615, ndcg@100: 0.18225\n",
      "[Iteration 1600/10000]\n",
      "Train loss:  tensor(-18.8497, grad_fn=<AddBackward0>)\n",
      "Validation:\n",
      "Loss:  -14.266218185424805\n",
      "[recall@10: 0.08695, precision@10: 0.07319, ndcg@10: 0.10053\n",
      "[recall@20: 0.13134, precision@20: 0.06012, ndcg@20: 0.11033\n",
      "[recall@50: 0.23662, precision@50: 0.04606, ndcg@50: 0.14497\n",
      "[recall@100: 0.35737, precision@100: 0.03609, ndcg@100: 0.18261\n",
      "[Iteration 1800/10000]\n",
      "Train loss:  tensor(-21.1773, grad_fn=<AddBackward0>)\n",
      "Validation:\n",
      "Loss:  -16.892175674438477\n",
      "[recall@10: 0.08629, precision@10: 0.07296, ndcg@10: 0.10097\n",
      "[recall@20: 0.13046, precision@20: 0.05979, ndcg@20: 0.11044\n",
      "[recall@50: 0.23604, precision@50: 0.04584, ndcg@50: 0.14511\n",
      "[recall@100: 0.35512, precision@100: 0.03615, ndcg@100: 0.18273\n",
      "[Iteration 2000/10000]\n",
      "Train loss:  tensor(-25.2100, grad_fn=<AddBackward0>)\n",
      "Validation:\n",
      "Loss:  -19.413265228271484\n",
      "[recall@10: 0.08598, precision@10: 0.07353, ndcg@10: 0.10104\n",
      "[recall@20: 0.13099, precision@20: 0.06024, ndcg@20: 0.1108\n",
      "[recall@50: 0.23473, precision@50: 0.04595, ndcg@50: 0.14503\n",
      "[recall@100: 0.35483, precision@100: 0.03604, ndcg@100: 0.18264\n",
      "[Iteration 2200/10000]\n",
      "Train loss:  tensor(-29.1499, grad_fn=<AddBackward0>)\n",
      "Validation:\n",
      "Loss:  -22.350534439086914\n",
      "[recall@10: 0.08535, precision@10: 0.0733, ndcg@10: 0.09988\n",
      "[recall@20: 0.13134, precision@20: 0.06029, ndcg@20: 0.11014\n",
      "[recall@50: 0.23637, precision@50: 0.04606, ndcg@50: 0.14467\n",
      "[recall@100: 0.35432, precision@100: 0.03606, ndcg@100: 0.18185\n"
     ]
    }
   ],
   "source": [
    "all_train_losses = []\n",
    "all_val_losses = []\n",
    "all_test_losses = []\n",
    "all_recalls = []\n",
    "all_precisions = []\n",
    "all_ndcgs = []\n",
    "elapsed_times = []\n",
    "\n",
    "# We have 6x3=18 experiments in total\n",
    "for dataset_file in datasets:\n",
    "    for split_strategy in split_strategies:\n",
    "\n",
    "        print(f'Starting a new experiment with {dataset_file} and split strategy {split_strategy}')\n",
    "        starttime = timeit.default_timer()\n",
    "\n",
    "        print('Reading in the subsample ...')\n",
    "        # Read in the subsample\n",
    "        rating_path = f'./data/{dataset_file}'\n",
    "        ratings = pd.read_csv(rating_path)\n",
    "\n",
    "        print('Loading nodes...')\n",
    "        # Load user nodes\n",
    "        user_x, user_mapping = load_nodes(ratings, index_col='userId')\n",
    "\n",
    "        # Keep only movies that are in the subsample\n",
    "        movies_in_ratings = ratings.movieId.unique()\n",
    "        movies_in_this_subsample = movies[movies.movieId.isin(movies_in_ratings)]\n",
    "\n",
    "        # Load movie (item) nodes\n",
    "        movie_x, movie_mapping = load_nodes(movies_in_this_subsample,\n",
    "                                    index_col='movieId',\n",
    "                                    encoders={'title': SequenceEncoder(), # Teeme kõik movie node feature-iteks. Alternatiiv oleks need teha eraldi node-ideks\n",
    "                                              'genre': CategoryEncoder(),\n",
    "                                              'year': CategoryEncoder(),\n",
    "                                              'actor': CategoryEncoder(),\n",
    "                                              'actress': CategoryEncoder(),\n",
    "                                              'director': CategoryEncoder(),\n",
    "                                              'producer': CategoryEncoder(),\n",
    "                                              'writer': CategoryEncoder()})\n",
    "        \n",
    "        print('Loading edges...')\n",
    "        # Load edges\n",
    "        edge_index, edge_attr, edge_timestamp = load_edges(ratings,\n",
    "                                                           src_index_col='userId',\n",
    "                                                           src_mapping=user_mapping,\n",
    "                                                           dst_index_col='movieId',\n",
    "                                                           dst_mapping=movie_mapping\n",
    "                                                           )\n",
    "        \n",
    "        num_users, num_movies = len(user_mapping), len(movie_mapping)\n",
    "        print('Users in total: ', num_users)\n",
    "        print('Movies in total: ', num_movies)\n",
    "\n",
    "        print('Train-test split...')\n",
    "        # Split the edges according to the split strategy\n",
    "        train_edge_index, val_edge_index, test_edge_index = train_val_test_split(edge_index, split_strategy)\n",
    "\n",
    "        num_edges_in_train = train_edge_index.shape[1]\n",
    "        num_edges_in_val = val_edge_index.shape[1]\n",
    "        num_edges_in_test = test_edge_index.shape[1]\n",
    "\n",
    "        print('Num edges in training set: ', num_edges_in_train)\n",
    "        print('Num edges in validation set: ', num_edges_in_val)\n",
    "        print('Num edges in test set: ', num_edges_in_test)\n",
    "\n",
    "        # Convert edge indices into Sparse Tensors: https://pytorch-geometric.readthedocs.io/en/latest/notes/sparse_tensor.html\n",
    "        train_sparse_edge_index = SparseTensor(row=train_edge_index[0], col=train_edge_index[1], sparse_sizes=(\n",
    "            num_users + num_movies, num_users + num_movies))\n",
    "        val_sparse_edge_index = SparseTensor(row=val_edge_index[0], col=val_edge_index[1], sparse_sizes=(\n",
    "            num_users + num_movies, num_users + num_movies))\n",
    "        test_sparse_edge_index = SparseTensor(row=test_edge_index[0], col=test_edge_index[1], sparse_sizes=(\n",
    "            num_users + num_movies, num_users + num_movies))\n",
    "        \n",
    "\n",
    "        # The model\n",
    "        model = LightGCN(num_users, num_movies)\n",
    "        \n",
    "        # Setup\n",
    "        device = torch.device('cuda' if torch.cuda.is_available() else 'cpu')\n",
    "        print(f\"Using device {device}.\")\n",
    "\n",
    "        model = model.to(device)\n",
    "        model.train()\n",
    "\n",
    "        optimizer = optim.Adam(model.parameters(), lr=LR)\n",
    "        scheduler = optim.lr_scheduler.ExponentialLR(optimizer, gamma=0.95)\n",
    "\n",
    "        edge_index = edge_index.to(device)\n",
    "        train_edge_index = train_edge_index.to(device)\n",
    "        train_sparse_edge_index = train_sparse_edge_index.to(device)\n",
    "\n",
    "        val_edge_index = val_edge_index.to(device)\n",
    "        val_sparse_edge_index = val_sparse_edge_index.to(device)\n",
    "\n",
    "        # training loop\n",
    "        train_losses = []\n",
    "        val_losses = []\n",
    "\n",
    "        for iter in range(ITERATIONS):\n",
    "            # forward propagation\n",
    "            users_emb_final, users_emb_0, items_emb_final, items_emb_0 = model.forward(\n",
    "                train_sparse_edge_index)\n",
    "\n",
    "            # mini batching\n",
    "            user_indices, pos_item_indices, neg_item_indices = sample_mini_batch(\n",
    "                BATCH_SIZE, train_edge_index)\n",
    "            user_indices, pos_item_indices, neg_item_indices = user_indices.to(\n",
    "                device), pos_item_indices.to(device), neg_item_indices.to(device)\n",
    "            users_emb_final, users_emb_0 = users_emb_final[user_indices], users_emb_0[user_indices]\n",
    "            pos_items_emb_final, pos_items_emb_0 = items_emb_final[\n",
    "                pos_item_indices], items_emb_0[pos_item_indices]\n",
    "            neg_items_emb_final, neg_items_emb_0 = items_emb_final[\n",
    "                neg_item_indices], items_emb_0[neg_item_indices]\n",
    "\n",
    "            # loss computation\n",
    "            train_loss = bpr_loss(users_emb_final, users_emb_0, pos_items_emb_final,\n",
    "                                pos_items_emb_0, neg_items_emb_final, neg_items_emb_0, LAMBDA)\n",
    "\n",
    "            optimizer.zero_grad()\n",
    "            train_loss.backward()\n",
    "            optimizer.step()\n",
    "\n",
    "            if iter % ITERS_PER_EVAL == 0:\n",
    "                model.eval()\n",
    "                print(f\"[Iteration {iter}/{ITERATIONS}]\")\n",
    "                print('Train loss: ', train_loss)\n",
    "                print('Validation:')\n",
    "                val_loss, recall, precision, ndcg = evaluation(\n",
    "                    model, val_edge_index, val_sparse_edge_index, [train_edge_index], K, LAMBDA)\n",
    "                train_losses.append(train_loss.item())\n",
    "                val_losses.append(val_loss)\n",
    "                model.train()\n",
    "\n",
    "            if iter % ITERS_PER_LR_DECAY == 0 and iter != 0:\n",
    "                scheduler.step()\n",
    "\n",
    "        all_train_losses.append(train_losses)\n",
    "        all_val_losses.append(val_losses)\n",
    "\n",
    "        print('Evaluating...')\n",
    "        # evaluate on test set\n",
    "        model.eval()\n",
    "        test_edge_index = test_edge_index.to(device)\n",
    "        test_sparse_edge_index = test_sparse_edge_index.to(device)\n",
    "\n",
    "        print('Performance on test set:')\n",
    "        test_loss, test_recall, test_precision, test_ndcg = evaluation(\n",
    "                    model, test_edge_index, test_sparse_edge_index, [train_edge_index, val_edge_index], K, LAMBDA)\n",
    "\n",
    "        all_test_losses.append(test_loss)\n",
    "        all_recalls.append(test_recall)\n",
    "        all_precisions.append(test_precision)\n",
    "        all_ndcgs.append(test_ndcg)\n",
    "\n",
    "        print('DONE!')\n",
    "        time_elapsed = timeit.default_timer() - starttime\n",
    "        print(\"Time elapsed :\", time_elapsed)\n",
    "        elapsed_times.append(time_elapsed)\n",
    "        print()"
   ]
  },
  {
   "attachments": {},
   "cell_type": "markdown",
   "metadata": {},
   "source": [
    "# Plot training and validation loss curves"
   ]
  },
  {
   "cell_type": "code",
   "execution_count": null,
   "metadata": {},
   "outputs": [
    {
     "data": {
      "image/png": "[encoded data removed]",
      "text/plain": [
       "<Figure size 640x480 with 1 Axes>"
      ]
     },
     "metadata": {},
     "output_type": "display_data"
    }
   ],
   "source": [
    "# Only the first model here\n",
    "train_losses = all_train_losses[0]\n",
    "val_losses = all_val_losses[0]\n",
    "    \n",
    "iters = [iter * ITERS_PER_EVAL for iter in range(len(train_losses))]\n",
    "plt.plot(iters, train_losses, label='train')\n",
    "plt.plot(iters, val_losses, label='validation')\n",
    "plt.xlabel('iteration')\n",
    "plt.ylabel('loss')\n",
    "plt.title('training and validation loss curves')\n",
    "plt.legend()\n",
    "plt.show()"
   ]
  },
  {
   "attachments": {},
   "cell_type": "markdown",
   "metadata": {},
   "source": [
    "## Analyze results"
   ]
  },
  {
   "cell_type": "code",
   "execution_count": null,
   "metadata": {},
   "outputs": [
    {
     "data": {
      "text/plain": [
       "[{100: 0.07229554653167725}, {100: 0.0460338294506073}]"
      ]
     },
     "execution_count": 10,
     "metadata": {},
     "output_type": "execute_result"
    }
   ],
   "source": [
    "all_recalls"
   ]
  },
  {
   "cell_type": "code",
   "execution_count": null,
   "metadata": {},
   "outputs": [
    {
     "data": {
      "text/plain": [
       "[{100: 0.0075767915695905685}, {100: 0.018951965495944023}]"
      ]
     },
     "execution_count": 16,
     "metadata": {},
     "output_type": "execute_result"
    }
   ],
   "source": [
    "all_precisions"
   ]
  },
  {
   "cell_type": "code",
   "execution_count": null,
   "metadata": {},
   "outputs": [
    {
     "data": {
      "text/plain": [
       "[{100: 0.029049761593341827}, {100: 0.032727740705013275}]"
      ]
     },
     "execution_count": 12,
     "metadata": {},
     "output_type": "execute_result"
    }
   ],
   "source": [
    "all_ndcgs"
   ]
  },
  {
   "cell_type": "code",
   "execution_count": null,
   "metadata": {},
   "outputs": [
    {
     "data": {
      "text/plain": [
       "[162.66119229997275, 190.50661369995214]"
      ]
     },
     "execution_count": 13,
     "metadata": {},
     "output_type": "execute_result"
    }
   ],
   "source": [
    "elapsed_times"
   ]
  },
  {
   "attachments": {},
   "cell_type": "markdown",
   "metadata": {},
   "source": [
    "## References"
   ]
  },
  {
   "attachments": {},
   "cell_type": "markdown",
   "metadata": {},
   "source": [
    "Our code is inspired by these tutorials:\n",
    "- https://colab.research.google.com/drive/1VfP6JlWbX_AJnx88yN1tM3BYE6XAADiy?usp=sharing \n",
    "- https://colab.research.google.com/drive/1KKugoFyUdydYC0XRyddcROzfQdMwDcnO?usp=sharing&fbclid=IwAR1-1pncUhTk5HZ8tP74e6thaK2gBaTD0FX7uqABTzE_-OLSLpSaUBOq0mA\n",
    "- https://colab.research.google.com/drive/1xpzn1Nvai1ygd_P5Yambc_oe4VBPK_ZT?usp=sharing&fbclid=IwAR1jsKGQhpdRrM22Fgg5ljTa4x1c4epqlTPsgou_2mIo6rBmjnLY1q8TmMU#scrollTo=D6ixkcCOwCDi\n",
    "- https://github.com/gusye1234/LightGCN-PyTorch\n",
    "- https://www.kaggle.com/dipanjandas96/lightgcn-pytorch-from-scratch\n",
    "- https://pytorch-geometric.readthedocs.io/en/latest/notes/load_csv.html"
   ]
  }
 ],
 "metadata": {
  "kernelspec": {
   "display_name": "atm_2022",
   "language": "python",
   "name": "python3"
  },
  "language_info": {
   "codemirror_mode": {
    "name": "ipython",
    "version": 3
   },
   "file_extension": ".py",
   "mimetype": "text/x-python",
   "name": "python",
   "nbconvert_exporter": "python",
   "pygments_lexer": "ipython3",
   "version": "3.11.3"
  },
  "orig_nbformat": 4
 },
 "nbformat": 4,
 "nbformat_minor": 2
}
