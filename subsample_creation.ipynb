{
 "cells": [
  {
   "attachments": {},
   "cell_type": "markdown",
   "metadata": {},
   "source": [
    "# Creation of a subsample from the MovieLens 25M dataset"
   ]
  },
  {
   "cell_type": "code",
   "execution_count": 2,
   "metadata": {},
   "outputs": [
    {
     "name": "stderr",
     "output_type": "stream",
     "text": [
      "c:\\Users\\kohvk\\anaconda3\\envs\\atm_2022\\lib\\site-packages\\torch_geometric\\typing.py:31: UserWarning: An issue occurred while importing 'torch-scatter'. Disabling its usage. Stacktrace: [WinError 127] The specified procedure could not be found\n",
      "  warnings.warn(f\"An issue occurred while importing 'torch-scatter'. \"\n",
      "c:\\Users\\kohvk\\anaconda3\\envs\\atm_2022\\lib\\site-packages\\torch_geometric\\typing.py:51: UserWarning: An issue occurred while importing 'torch-sparse'. Disabling its usage. Stacktrace: [WinError 127] The specified procedure could not be found\n",
      "  warnings.warn(f\"An issue occurred while importing 'torch-sparse'. \"\n"
     ]
    }
   ],
   "source": [
    "from torch_geometric.data import download_url, extract_zip\n",
    "import pandas as pd\n",
    "import numpy as np\n",
    "import matplotlib.pyplot as plt"
   ]
  },
  {
   "cell_type": "code",
   "execution_count": 3,
   "metadata": {},
   "outputs": [
    {
     "name": "stderr",
     "output_type": "stream",
     "text": [
      "Using existing file ml-25m.zip\n",
      "Extracting .\\ml-25m.zip\n"
     ]
    }
   ],
   "source": [
    "# download the 25M dataset\n",
    "ml_25m_url = 'https://files.grouplens.org/datasets/movielens/ml-25m.zip'\n",
    "extract_zip(download_url(ml_25m_url, '.'), '.')"
   ]
  },
  {
   "cell_type": "code",
   "execution_count": 4,
   "metadata": {},
   "outputs": [],
   "source": [
    "rating_path = './ml-25m/ratings.csv'\n",
    "ratings = pd.read_csv(rating_path)"
   ]
  },
  {
   "cell_type": "code",
   "execution_count": 5,
   "metadata": {},
   "outputs": [
    {
     "data": {
      "text/plain": [
       "25000095"
      ]
     },
     "execution_count": 5,
     "metadata": {},
     "output_type": "execute_result"
    }
   ],
   "source": [
    "len(ratings)"
   ]
  },
  {
   "cell_type": "code",
   "execution_count": 6,
   "metadata": {},
   "outputs": [],
   "source": [
    "# Timestamps represent seconds since midnight Coordinated Universal Time (UTC) of January 1, 1970.\n",
    "# We convert to a readable timestamp\n",
    "ratings['timestamp'] = pd.to_datetime(ratings['timestamp'], unit='s')"
   ]
  },
  {
   "cell_type": "code",
   "execution_count": 7,
   "metadata": {},
   "outputs": [
    {
     "data": {
      "text/html": [
       "<div>\n",
       "<style scoped>\n",
       "    .dataframe tbody tr th:only-of-type {\n",
       "        vertical-align: middle;\n",
       "    }\n",
       "\n",
       "    .dataframe tbody tr th {\n",
       "        vertical-align: top;\n",
       "    }\n",
       "\n",
       "    .dataframe thead th {\n",
       "        text-align: right;\n",
       "    }\n",
       "</style>\n",
       "<table border=\"1\" class=\"dataframe\">\n",
       "  <thead>\n",
       "    <tr style=\"text-align: right;\">\n",
       "      <th></th>\n",
       "      <th>userId</th>\n",
       "      <th>movieId</th>\n",
       "      <th>rating</th>\n",
       "      <th>timestamp</th>\n",
       "      <th>year</th>\n",
       "      <th>month</th>\n",
       "    </tr>\n",
       "  </thead>\n",
       "  <tbody>\n",
       "    <tr>\n",
       "      <th>0</th>\n",
       "      <td>1</td>\n",
       "      <td>296</td>\n",
       "      <td>5.0</td>\n",
       "      <td>2006-05-17 15:34:04</td>\n",
       "      <td>2006</td>\n",
       "      <td>5</td>\n",
       "    </tr>\n",
       "    <tr>\n",
       "      <th>1</th>\n",
       "      <td>1</td>\n",
       "      <td>306</td>\n",
       "      <td>3.5</td>\n",
       "      <td>2006-05-17 12:26:57</td>\n",
       "      <td>2006</td>\n",
       "      <td>5</td>\n",
       "    </tr>\n",
       "    <tr>\n",
       "      <th>2</th>\n",
       "      <td>1</td>\n",
       "      <td>307</td>\n",
       "      <td>5.0</td>\n",
       "      <td>2006-05-17 12:27:08</td>\n",
       "      <td>2006</td>\n",
       "      <td>5</td>\n",
       "    </tr>\n",
       "    <tr>\n",
       "      <th>3</th>\n",
       "      <td>1</td>\n",
       "      <td>665</td>\n",
       "      <td>5.0</td>\n",
       "      <td>2006-05-17 15:13:40</td>\n",
       "      <td>2006</td>\n",
       "      <td>5</td>\n",
       "    </tr>\n",
       "    <tr>\n",
       "      <th>4</th>\n",
       "      <td>1</td>\n",
       "      <td>899</td>\n",
       "      <td>3.5</td>\n",
       "      <td>2006-05-17 12:21:50</td>\n",
       "      <td>2006</td>\n",
       "      <td>5</td>\n",
       "    </tr>\n",
       "  </tbody>\n",
       "</table>\n",
       "</div>"
      ],
      "text/plain": [
       "   userId  movieId  rating           timestamp  year  month\n",
       "0       1      296     5.0 2006-05-17 15:34:04  2006      5\n",
       "1       1      306     3.5 2006-05-17 12:26:57  2006      5\n",
       "2       1      307     5.0 2006-05-17 12:27:08  2006      5\n",
       "3       1      665     5.0 2006-05-17 15:13:40  2006      5\n",
       "4       1      899     3.5 2006-05-17 12:21:50  2006      5"
      ]
     },
     "execution_count": 7,
     "metadata": {},
     "output_type": "execute_result"
    }
   ],
   "source": [
    "ratings['year'] = ratings['timestamp'].dt.year\n",
    "ratings['month'] = ratings['timestamp'].dt.month\n",
    "ratings.head()"
   ]
  },
  {
   "cell_type": "code",
   "execution_count": 8,
   "metadata": {},
   "outputs": [],
   "source": [
    "#plt.hist(ratings['year'])"
   ]
  },
  {
   "cell_type": "code",
   "execution_count": 9,
   "metadata": {},
   "outputs": [
    {
     "data": {
      "text/plain": [
       "userId       0\n",
       "movieId      0\n",
       "rating       0\n",
       "timestamp    0\n",
       "year         0\n",
       "month        0\n",
       "dtype: int64"
      ]
     },
     "execution_count": 9,
     "metadata": {},
     "output_type": "execute_result"
    }
   ],
   "source": [
    "ratings.isnull().sum()"
   ]
  },
  {
   "cell_type": "code",
   "execution_count": 10,
   "metadata": {},
   "outputs": [
    {
     "data": {
      "text/plain": [
       "0"
      ]
     },
     "execution_count": 10,
     "metadata": {},
     "output_type": "execute_result"
    }
   ],
   "source": [
    "ratings.duplicated().sum()"
   ]
  },
  {
   "cell_type": "code",
   "execution_count": 11,
   "metadata": {},
   "outputs": [
    {
     "data": {
      "text/plain": [
       "(2511395, 25000095)"
      ]
     },
     "execution_count": 11,
     "metadata": {},
     "output_type": "execute_result"
    }
   ],
   "source": [
    "ratings_2018_2019 = ratings[ratings['year'] >= 2018].copy() # We take a sample of ratings from years 2018-2019\n",
    "len(ratings_2018_2019), len(ratings)"
   ]
  },
  {
   "cell_type": "code",
   "execution_count": 12,
   "metadata": {},
   "outputs": [
    {
     "name": "stdout",
     "output_type": "stream",
     "text": [
      "Total users in sample 2018-2019:  18512\n",
      "Users with less than 3 ratings:  481\n",
      "Users with less than 5 ratings:  824\n",
      "Users with less than 10 ratings:  1507\n",
      "Users with less than 20 ratings:  2448\n"
     ]
    }
   ],
   "source": [
    "user_counts = ratings_2018_2019.userId.value_counts()\n",
    "print('Total users in sample 2018-2019: ', len(user_counts))\n",
    "print('Users with less than 3 ratings: ', len(user_counts[user_counts < 3]))\n",
    "print('Users with less than 5 ratings: ', len(user_counts[user_counts < 5]))\n",
    "print('Users with less than 10 ratings: ', len(user_counts[user_counts < 10]))\n",
    "print('Users with less than 20 ratings: ', len(user_counts[user_counts < 20]))"
   ]
  },
  {
   "cell_type": "code",
   "execution_count": 13,
   "metadata": {},
   "outputs": [
    {
     "name": "stdout",
     "output_type": "stream",
     "text": [
      "Total movies in sample 2018-2019:  49427\n",
      "Movies with less than 3 ratings:  21967\n",
      "Movies with less than 5 ratings:  30024\n",
      "Movies with less than 10 ratings:  37115\n",
      "Movies with less than 20 ratings:  41210\n"
     ]
    }
   ],
   "source": [
    "movie_counts = ratings_2018_2019.movieId.value_counts()\n",
    "print('Total movies in sample 2018-2019: ', len(movie_counts))\n",
    "print('Movies with less than 3 ratings: ', len(movie_counts[movie_counts < 3]))\n",
    "print('Movies with less than 5 ratings: ', len(movie_counts[movie_counts < 5]))\n",
    "print('Movies with less than 10 ratings: ', len(movie_counts[movie_counts < 10]))\n",
    "print('Movies with less than 20 ratings: ', len(movie_counts[movie_counts < 20]))"
   ]
  },
  {
   "cell_type": "code",
   "execution_count": 14,
   "metadata": {},
   "outputs": [],
   "source": [
    "# We are not removing users and movies with few ratings because often in real settings, we have users and movies with few ratings.\n",
    "# We want to see how the models perform in such scenarios.\n",
    "# In addition, data pruning should always be done carefully and is recommended to be avoided in recsys: https://ceur-ws.org/Vol-2431/paper6.pdf"
   ]
  },
  {
   "cell_type": "code",
   "execution_count": 15,
   "metadata": {},
   "outputs": [
    {
     "name": "stdout",
     "output_type": "stream",
     "text": [
      "There are 18512 users active in 2018-2019. We randomly sample 1000 of them.\n"
     ]
    }
   ],
   "source": [
    "userids = ratings_2018_2019.userId.unique()\n",
    "np.random.seed(0)\n",
    "sample_1000 = np.random.choice(userids, size=1000, replace=False) # Let's keep random 1000 users\n",
    "print(f'There are {len(userids)} users active in 2018-2019. We randomly sample {len(sample_1000)} of them.')"
   ]
  },
  {
   "cell_type": "code",
   "execution_count": 16,
   "metadata": {},
   "outputs": [
    {
     "name": "stdout",
     "output_type": "stream",
     "text": [
      "After sampling 1000 random users. We have 126687 ratings and 13694 unique movies.\n"
     ]
    }
   ],
   "source": [
    "subsample = ratings_2018_2019[ratings_2018_2019.userId.isin(sample_1000)]\n",
    "print(f'After sampling 1000 random users. We have {len(subsample)} ratings and {len(subsample.movieId.unique())} unique movies.')"
   ]
  },
  {
   "cell_type": "code",
   "execution_count": 17,
   "metadata": {},
   "outputs": [
    {
     "name": "stdout",
     "output_type": "stream",
     "text": [
      "Minimum number of ratings a user has in this subsample:  1\n",
      "Maximum number of ratings a user has in this subsample:  2941\n",
      "Minimum number of ratings a movie has in this subsample:  1\n",
      "Maximum number of ratings a movie has in this subsample:  443\n"
     ]
    }
   ],
   "source": [
    "print('Minimum number of ratings a user has in this subsample: ', subsample.userId.value_counts().min())\n",
    "print('Maximum number of ratings a user has in this subsample: ', subsample.userId.value_counts().max())\n",
    "print('Minimum number of ratings a movie has in this subsample: ', subsample.movieId.value_counts().min())\n",
    "print('Maximum number of ratings a movie has in this subsample: ', subsample.movieId.value_counts().max())"
   ]
  },
  {
   "cell_type": "code",
   "execution_count": 18,
   "metadata": {},
   "outputs": [
    {
     "name": "stdout",
     "output_type": "stream",
     "text": [
      "Total users:  1000\n",
      "Users with less than 3 ratings:  21\n",
      "Users with less than 10 ratings:  71\n",
      "Users with more than 50 ratings:  573\n"
     ]
    }
   ],
   "source": [
    "user_counts = subsample.userId.value_counts()\n",
    "print('Total users: ', len(user_counts))\n",
    "print('Users with less than 3 ratings: ', len(user_counts[user_counts < 3]))\n",
    "print('Users with less than 10 ratings: ', len(user_counts[user_counts < 10]))\n",
    "print('Users with more than 50 ratings: ', len(user_counts[user_counts > 50]))"
   ]
  },
  {
   "cell_type": "code",
   "execution_count": 19,
   "metadata": {},
   "outputs": [
    {
     "name": "stdout",
     "output_type": "stream",
     "text": [
      "Total movies:  13694\n",
      "Movies with less than 3 ratings:  8369\n",
      "Movies with less than 5 ratings:  10016\n",
      "Movies with less than 10 ratings:  11394\n",
      "Movies with more than 50 ratings:  573\n"
     ]
    }
   ],
   "source": [
    "movie_counts = subsample.movieId.value_counts()\n",
    "print('Total movies: ', len(movie_counts))\n",
    "print('Movies with less than 3 ratings: ', len(movie_counts[movie_counts < 3]))\n",
    "print('Movies with less than 5 ratings: ', len(movie_counts[movie_counts < 5]))\n",
    "print('Movies with less than 10 ratings: ', len(movie_counts[movie_counts < 10]))\n",
    "print('Movies with more than 50 ratings: ', len(movie_counts[movie_counts > 50]))\n",
    "# A lot of movies that only one or a few users have rated"
   ]
  },
  {
   "cell_type": "code",
   "execution_count": 20,
   "metadata": {},
   "outputs": [],
   "source": [
    "subsample.to_csv('./data/ratings_subsample_120K.csv', index=False)"
   ]
  }
 ],
 "metadata": {
  "kernelspec": {
   "display_name": "atm_2022",
   "language": "python",
   "name": "python3"
  },
  "language_info": {
   "codemirror_mode": {
    "name": "ipython",
    "version": 3
   },
   "file_extension": ".py",
   "mimetype": "text/x-python",
   "name": "python",
   "nbconvert_exporter": "python",
   "pygments_lexer": "ipython3",
   "version": "3.10.4"
  },
  "orig_nbformat": 4
 },
 "nbformat": 4,
 "nbformat_minor": 2
}
