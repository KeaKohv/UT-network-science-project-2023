{
 "cells": [
  {
   "cell_type": "code",
   "execution_count": 28,
   "metadata": {},
   "outputs": [],
   "source": [
    "# Import libraries\n",
    "import pandas as pd\n",
    "import numpy as np\n",
    "import matplotlib.pyplot as plt\n",
    "import seaborn as sns\n",
    "\n",
    "from results import load_results"
   ]
  },
  {
   "cell_type": "code",
   "execution_count": 29,
   "metadata": {},
   "outputs": [],
   "source": [
    "temporal, one_out, random = load_results()"
   ]
  },
  {
   "cell_type": "code",
   "execution_count": 30,
   "metadata": {},
   "outputs": [
    {
     "data": {
      "text/plain": [
       "dict_keys(['1_subsample', '2_subsample', '3_subsample', '4_subsample'])"
      ]
     },
     "execution_count": 30,
     "metadata": {},
     "output_type": "execute_result"
    }
   ],
   "source": [
    "temporal.keys()"
   ]
  },
  {
   "cell_type": "code",
   "execution_count": 31,
   "metadata": {},
   "outputs": [
    {
     "data": {
      "text/plain": [
       "dict_keys(['1_subsample', '2_subsample', '3_subsample', '4_subsample'])"
      ]
     },
     "execution_count": 31,
     "metadata": {},
     "output_type": "execute_result"
    }
   ],
   "source": [
    "one_out.keys()"
   ]
  },
  {
   "cell_type": "code",
   "execution_count": 32,
   "metadata": {},
   "outputs": [
    {
     "data": {
      "text/plain": [
       "dict_keys(['1_subsample', '2_subsample', '3_subsample', '4_subsample'])"
      ]
     },
     "execution_count": 32,
     "metadata": {},
     "output_type": "execute_result"
    }
   ],
   "source": [
    "random.keys()"
   ]
  },
  {
   "cell_type": "code",
   "execution_count": 33,
   "metadata": {},
   "outputs": [
    {
     "data": {
      "text/plain": [
       "dict_keys(['ngcf', 'lightgcn'])"
      ]
     },
     "execution_count": 33,
     "metadata": {},
     "output_type": "execute_result"
    }
   ],
   "source": [
    "temporal['1_subsample'].keys()"
   ]
  },
  {
   "cell_type": "code",
   "execution_count": 34,
   "metadata": {},
   "outputs": [
    {
     "data": {
      "text/plain": [
       "dict_keys(['loss', 'bpr', 'reg', 'recall', 'precision'])"
      ]
     },
     "execution_count": 34,
     "metadata": {},
     "output_type": "execute_result"
    }
   ],
   "source": [
    "temporal['1_subsample']['lightgcn'].keys()"
   ]
  },
  {
   "cell_type": "code",
   "execution_count": 35,
   "metadata": {},
   "outputs": [
    {
     "data": {
      "text/plain": [
       "{1: [0.02654867256637168,\n",
       "  0.02654867256637168,\n",
       "  0.04129793510324484,\n",
       "  0.04424778761061947,\n",
       "  0.05014749262536873,\n",
       "  0.058997050147492625,\n",
       "  0.05604719764011799,\n",
       "  0.05604719764011799,\n",
       "  0.06784660766961652,\n",
       "  0.06784660766961652],\n",
       " 2: [0.04129793510324484,\n",
       "  0.03982300884955752,\n",
       "  0.03982300884955752,\n",
       "  0.045722713864306784,\n",
       "  0.048672566371681415,\n",
       "  0.05457227138643068,\n",
       "  0.05604719764011799,\n",
       "  0.05457227138643068,\n",
       "  0.06637168141592921,\n",
       "  0.06784660766961652],\n",
       " 3: [0.04228121927236971,\n",
       "  0.040314650934119955,\n",
       "  0.03933136676499508,\n",
       "  0.04424778761061947,\n",
       "  0.048180924287118974,\n",
       "  0.05703048180924287,\n",
       "  0.05801376597836774,\n",
       "  0.05506391347099311,\n",
       "  0.06293018682399212,\n",
       "  0.05899705014749262],\n",
       " 5: [0.03893805309734514,\n",
       "  0.03598820058997051,\n",
       "  0.04011799410029499,\n",
       "  0.04365781710914454,\n",
       "  0.04837758112094396,\n",
       "  0.05309734513274336,\n",
       "  0.054277286135693215,\n",
       "  0.05486725663716815,\n",
       "  0.05840707964601769,\n",
       "  0.0625368731563422],\n",
       " 10: [0.032743362831858414,\n",
       "  0.03333333333333333,\n",
       "  0.03480825958702065,\n",
       "  0.039233038348082595,\n",
       "  0.04129793510324484,\n",
       "  0.04454277286135694,\n",
       "  0.04926253687315635,\n",
       "  0.05221238938053097,\n",
       "  0.05486725663716815,\n",
       "  0.05457227138643068],\n",
       " 20: [0.0312684365781711,\n",
       "  0.03023598820058997,\n",
       "  0.03230088495575221,\n",
       "  0.03348082595870206,\n",
       "  0.03908554572271387,\n",
       "  0.04247787610619469,\n",
       "  0.045575221238938056,\n",
       "  0.04631268436578172,\n",
       "  0.046017699115044254,\n",
       "  0.048672566371681415],\n",
       " 50: [0.02902654867256637,\n",
       "  0.02920353982300885,\n",
       "  0.030324483775811213,\n",
       "  0.0328023598820059,\n",
       "  0.035339233038348086,\n",
       "  0.03740412979351032,\n",
       "  0.03828908554572272,\n",
       "  0.038643067846607676,\n",
       "  0.03988200589970501,\n",
       "  0.039999999999999994],\n",
       " 100: [0.025870206489675515,\n",
       "  0.026430678466076697,\n",
       "  0.027168141592920355,\n",
       "  0.029085545722713862,\n",
       "  0.02988200589970502,\n",
       "  0.0308259587020649,\n",
       "  0.03171091445427729,\n",
       "  0.032182890855457225,\n",
       "  0.03271386430678466,\n",
       "  0.03353982300884956]}"
      ]
     },
     "execution_count": 35,
     "metadata": {},
     "output_type": "execute_result"
    }
   ],
   "source": [
    "# Siin on temporal split 1. subsample lightgcn mudeli precision tulemused, iga K, kõik 10 epochit\n",
    "temporal['1_subsample']['lightgcn']['precision']"
   ]
  }
 ],
 "metadata": {
  "kernelspec": {
   "display_name": "netsciproject",
   "language": "python",
   "name": "python3"
  },
  "language_info": {
   "codemirror_mode": {
    "name": "ipython",
    "version": 3
   },
   "file_extension": ".py",
   "mimetype": "text/x-python",
   "name": "python",
   "nbconvert_exporter": "python",
   "pygments_lexer": "ipython3",
   "version": "3.11.3"
  },
  "orig_nbformat": 4
 },
 "nbformat": 4,
 "nbformat_minor": 2
}
